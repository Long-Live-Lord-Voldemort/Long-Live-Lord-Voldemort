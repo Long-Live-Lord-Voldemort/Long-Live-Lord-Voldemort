{
  "nbformat": 4,
  "nbformat_minor": 0,
  "metadata": {
    "colab": {
      "name": "Algo_Trading_MovingAverageConvergenceDivergence.ipynb",
      "provenance": [],
      "collapsed_sections": [],
      "authorship_tag": "ABX9TyP05tjQeN/UEgBD3C7PU8kQ",
      "include_colab_link": true
    },
    "kernelspec": {
      "name": "python3",
      "display_name": "Python 3"
    },
    "language_info": {
      "name": "python"
    }
  },
  "cells": [
    {
      "cell_type": "markdown",
      "metadata": {
        "id": "view-in-github",
        "colab_type": "text"
      },
      "source": [
        "<a href=\"https://colab.research.google.com/github/Long-Live-Lord-Voldemort/Long-Live-Lord-Voldemort/blob/main/Algo_Trading_MovingAverageConvergenceDivergence.ipynb\" target=\"_parent\"><img src=\"https://colab.research.google.com/assets/colab-badge.svg\" alt=\"Open In Colab\"/></a>"
      ]
    },
    {
      "cell_type": "code",
      "execution_count": 49,
      "metadata": {
        "colab": {
          "base_uri": "https://localhost:8080/"
        },
        "id": "p_JX_aQuKO76",
        "outputId": "5a1c7659-91db-4105-fd47-1b91936b6759"
      },
      "outputs": [
        {
          "output_type": "stream",
          "name": "stdout",
          "text": [
            "Requirement already satisfied: yfinance in /usr/local/lib/python3.7/dist-packages (0.1.69)\n",
            "Requirement already satisfied: requests>=2.26 in /usr/local/lib/python3.7/dist-packages (from yfinance) (2.27.1)\n",
            "Requirement already satisfied: numpy>=1.15 in /usr/local/lib/python3.7/dist-packages (from yfinance) (1.19.5)\n",
            "Requirement already satisfied: pandas>=0.24 in /usr/local/lib/python3.7/dist-packages (from yfinance) (1.1.5)\n",
            "Requirement already satisfied: multitasking>=0.0.7 in /usr/local/lib/python3.7/dist-packages (from yfinance) (0.0.10)\n",
            "Requirement already satisfied: lxml>=4.5.1 in /usr/local/lib/python3.7/dist-packages (from yfinance) (4.7.1)\n",
            "Requirement already satisfied: python-dateutil>=2.7.3 in /usr/local/lib/python3.7/dist-packages (from pandas>=0.24->yfinance) (2.8.2)\n",
            "Requirement already satisfied: pytz>=2017.2 in /usr/local/lib/python3.7/dist-packages (from pandas>=0.24->yfinance) (2018.9)\n",
            "Requirement already satisfied: six>=1.5 in /usr/local/lib/python3.7/dist-packages (from python-dateutil>=2.7.3->pandas>=0.24->yfinance) (1.15.0)\n",
            "Requirement already satisfied: urllib3<1.27,>=1.21.1 in /usr/local/lib/python3.7/dist-packages (from requests>=2.26->yfinance) (1.24.3)\n",
            "Requirement already satisfied: charset-normalizer~=2.0.0 in /usr/local/lib/python3.7/dist-packages (from requests>=2.26->yfinance) (2.0.10)\n",
            "Requirement already satisfied: certifi>=2017.4.17 in /usr/local/lib/python3.7/dist-packages (from requests>=2.26->yfinance) (2021.10.8)\n",
            "Requirement already satisfied: idna<4,>=2.5 in /usr/local/lib/python3.7/dist-packages (from requests>=2.26->yfinance) (2.10)\n"
          ]
        }
      ],
      "source": [
        "pip install yfinance"
      ]
    },
    {
      "cell_type": "code",
      "source": [
        "import yfinance as yf\n",
        "import matplotlib.pyplot as plt"
      ],
      "metadata": {
        "id": "XZRjRYp-L3bx"
      },
      "execution_count": 50,
      "outputs": []
    },
    {
      "cell_type": "code",
      "source": [
        "df = yf.download('TSLA', start= '2021-04-01')"
      ],
      "metadata": {
        "colab": {
          "base_uri": "https://localhost:8080/"
        },
        "id": "wxvtawRUL_L2",
        "outputId": "f24a0289-c985-473b-f92a-462dd451d95c"
      },
      "execution_count": 51,
      "outputs": [
        {
          "output_type": "stream",
          "name": "stdout",
          "text": [
            "\r[*********************100%***********************]  1 of 1 completed\n"
          ]
        }
      ]
    },
    {
      "cell_type": "code",
      "source": [
        "df.tail(11)"
      ],
      "metadata": {
        "colab": {
          "base_uri": "https://localhost:8080/",
          "height": 426
        },
        "id": "LxT1SZqkMQzW",
        "outputId": "6b4b9e5d-be4f-453e-d4c2-1b9ceb677e99"
      },
      "execution_count": 52,
      "outputs": [
        {
          "output_type": "execute_result",
          "data": {
            "text/html": [
              "\n",
              "  <div id=\"df-dffa14ff-d401-46c1-ba5b-2e791ccb27ac\">\n",
              "    <div class=\"colab-df-container\">\n",
              "      <div>\n",
              "<style scoped>\n",
              "    .dataframe tbody tr th:only-of-type {\n",
              "        vertical-align: middle;\n",
              "    }\n",
              "\n",
              "    .dataframe tbody tr th {\n",
              "        vertical-align: top;\n",
              "    }\n",
              "\n",
              "    .dataframe thead th {\n",
              "        text-align: right;\n",
              "    }\n",
              "</style>\n",
              "<table border=\"1\" class=\"dataframe\">\n",
              "  <thead>\n",
              "    <tr style=\"text-align: right;\">\n",
              "      <th></th>\n",
              "      <th>Open</th>\n",
              "      <th>High</th>\n",
              "      <th>Low</th>\n",
              "      <th>Close</th>\n",
              "      <th>Adj Close</th>\n",
              "      <th>Volume</th>\n",
              "    </tr>\n",
              "    <tr>\n",
              "      <th>Date</th>\n",
              "      <th></th>\n",
              "      <th></th>\n",
              "      <th></th>\n",
              "      <th></th>\n",
              "      <th></th>\n",
              "      <th></th>\n",
              "    </tr>\n",
              "  </thead>\n",
              "  <tbody>\n",
              "    <tr>\n",
              "      <th>2022-01-04</th>\n",
              "      <td>1189.550049</td>\n",
              "      <td>1208.000000</td>\n",
              "      <td>1123.050049</td>\n",
              "      <td>1149.589966</td>\n",
              "      <td>1149.589966</td>\n",
              "      <td>33416100</td>\n",
              "    </tr>\n",
              "    <tr>\n",
              "      <th>2022-01-05</th>\n",
              "      <td>1146.650024</td>\n",
              "      <td>1170.339966</td>\n",
              "      <td>1081.010010</td>\n",
              "      <td>1088.119995</td>\n",
              "      <td>1088.119995</td>\n",
              "      <td>26706600</td>\n",
              "    </tr>\n",
              "    <tr>\n",
              "      <th>2022-01-06</th>\n",
              "      <td>1077.000000</td>\n",
              "      <td>1088.000000</td>\n",
              "      <td>1020.500000</td>\n",
              "      <td>1064.699951</td>\n",
              "      <td>1064.699951</td>\n",
              "      <td>30112200</td>\n",
              "    </tr>\n",
              "    <tr>\n",
              "      <th>2022-01-07</th>\n",
              "      <td>1080.369995</td>\n",
              "      <td>1080.930054</td>\n",
              "      <td>1010.000000</td>\n",
              "      <td>1026.959961</td>\n",
              "      <td>1026.959961</td>\n",
              "      <td>27919000</td>\n",
              "    </tr>\n",
              "    <tr>\n",
              "      <th>2022-01-10</th>\n",
              "      <td>1000.000000</td>\n",
              "      <td>1059.099976</td>\n",
              "      <td>980.000000</td>\n",
              "      <td>1058.119995</td>\n",
              "      <td>1058.119995</td>\n",
              "      <td>30605000</td>\n",
              "    </tr>\n",
              "    <tr>\n",
              "      <th>2022-01-11</th>\n",
              "      <td>1053.670044</td>\n",
              "      <td>1075.849976</td>\n",
              "      <td>1038.819946</td>\n",
              "      <td>1064.400024</td>\n",
              "      <td>1064.400024</td>\n",
              "      <td>22021100</td>\n",
              "    </tr>\n",
              "    <tr>\n",
              "      <th>2022-01-12</th>\n",
              "      <td>1078.849976</td>\n",
              "      <td>1114.839966</td>\n",
              "      <td>1072.589966</td>\n",
              "      <td>1106.219971</td>\n",
              "      <td>1106.219971</td>\n",
              "      <td>27913000</td>\n",
              "    </tr>\n",
              "    <tr>\n",
              "      <th>2022-01-13</th>\n",
              "      <td>1109.069946</td>\n",
              "      <td>1115.599976</td>\n",
              "      <td>1026.540039</td>\n",
              "      <td>1031.560059</td>\n",
              "      <td>1031.560059</td>\n",
              "      <td>32403300</td>\n",
              "    </tr>\n",
              "    <tr>\n",
              "      <th>2022-01-14</th>\n",
              "      <td>1019.880005</td>\n",
              "      <td>1052.000000</td>\n",
              "      <td>1013.380005</td>\n",
              "      <td>1049.609985</td>\n",
              "      <td>1049.609985</td>\n",
              "      <td>24246600</td>\n",
              "    </tr>\n",
              "    <tr>\n",
              "      <th>2022-01-18</th>\n",
              "      <td>1026.609985</td>\n",
              "      <td>1070.790039</td>\n",
              "      <td>1016.059998</td>\n",
              "      <td>1030.510010</td>\n",
              "      <td>1030.510010</td>\n",
              "      <td>22247800</td>\n",
              "    </tr>\n",
              "    <tr>\n",
              "      <th>2022-01-19</th>\n",
              "      <td>1041.709961</td>\n",
              "      <td>1054.670044</td>\n",
              "      <td>995.000000</td>\n",
              "      <td>995.650024</td>\n",
              "      <td>995.650024</td>\n",
              "      <td>24988100</td>\n",
              "    </tr>\n",
              "  </tbody>\n",
              "</table>\n",
              "</div>\n",
              "      <button class=\"colab-df-convert\" onclick=\"convertToInteractive('df-dffa14ff-d401-46c1-ba5b-2e791ccb27ac')\"\n",
              "              title=\"Convert this dataframe to an interactive table.\"\n",
              "              style=\"display:none;\">\n",
              "        \n",
              "  <svg xmlns=\"http://www.w3.org/2000/svg\" height=\"24px\"viewBox=\"0 0 24 24\"\n",
              "       width=\"24px\">\n",
              "    <path d=\"M0 0h24v24H0V0z\" fill=\"none\"/>\n",
              "    <path d=\"M18.56 5.44l.94 2.06.94-2.06 2.06-.94-2.06-.94-.94-2.06-.94 2.06-2.06.94zm-11 1L8.5 8.5l.94-2.06 2.06-.94-2.06-.94L8.5 2.5l-.94 2.06-2.06.94zm10 10l.94 2.06.94-2.06 2.06-.94-2.06-.94-.94-2.06-.94 2.06-2.06.94z\"/><path d=\"M17.41 7.96l-1.37-1.37c-.4-.4-.92-.59-1.43-.59-.52 0-1.04.2-1.43.59L10.3 9.45l-7.72 7.72c-.78.78-.78 2.05 0 2.83L4 21.41c.39.39.9.59 1.41.59.51 0 1.02-.2 1.41-.59l7.78-7.78 2.81-2.81c.8-.78.8-2.07 0-2.86zM5.41 20L4 18.59l7.72-7.72 1.47 1.35L5.41 20z\"/>\n",
              "  </svg>\n",
              "      </button>\n",
              "      \n",
              "  <style>\n",
              "    .colab-df-container {\n",
              "      display:flex;\n",
              "      flex-wrap:wrap;\n",
              "      gap: 12px;\n",
              "    }\n",
              "\n",
              "    .colab-df-convert {\n",
              "      background-color: #E8F0FE;\n",
              "      border: none;\n",
              "      border-radius: 50%;\n",
              "      cursor: pointer;\n",
              "      display: none;\n",
              "      fill: #1967D2;\n",
              "      height: 32px;\n",
              "      padding: 0 0 0 0;\n",
              "      width: 32px;\n",
              "    }\n",
              "\n",
              "    .colab-df-convert:hover {\n",
              "      background-color: #E2EBFA;\n",
              "      box-shadow: 0px 1px 2px rgba(60, 64, 67, 0.3), 0px 1px 3px 1px rgba(60, 64, 67, 0.15);\n",
              "      fill: #174EA6;\n",
              "    }\n",
              "\n",
              "    [theme=dark] .colab-df-convert {\n",
              "      background-color: #3B4455;\n",
              "      fill: #D2E3FC;\n",
              "    }\n",
              "\n",
              "    [theme=dark] .colab-df-convert:hover {\n",
              "      background-color: #434B5C;\n",
              "      box-shadow: 0px 1px 3px 1px rgba(0, 0, 0, 0.15);\n",
              "      filter: drop-shadow(0px 1px 2px rgba(0, 0, 0, 0.3));\n",
              "      fill: #FFFFFF;\n",
              "    }\n",
              "  </style>\n",
              "\n",
              "      <script>\n",
              "        const buttonEl =\n",
              "          document.querySelector('#df-dffa14ff-d401-46c1-ba5b-2e791ccb27ac button.colab-df-convert');\n",
              "        buttonEl.style.display =\n",
              "          google.colab.kernel.accessAllowed ? 'block' : 'none';\n",
              "\n",
              "        async function convertToInteractive(key) {\n",
              "          const element = document.querySelector('#df-dffa14ff-d401-46c1-ba5b-2e791ccb27ac');\n",
              "          const dataTable =\n",
              "            await google.colab.kernel.invokeFunction('convertToInteractive',\n",
              "                                                     [key], {});\n",
              "          if (!dataTable) return;\n",
              "\n",
              "          const docLinkHtml = 'Like what you see? Visit the ' +\n",
              "            '<a target=\"_blank\" href=https://colab.research.google.com/notebooks/data_table.ipynb>data table notebook</a>'\n",
              "            + ' to learn more about interactive tables.';\n",
              "          element.innerHTML = '';\n",
              "          dataTable['output_type'] = 'display_data';\n",
              "          await google.colab.output.renderOutput(dataTable, element);\n",
              "          const docLink = document.createElement('div');\n",
              "          docLink.innerHTML = docLinkHtml;\n",
              "          element.appendChild(docLink);\n",
              "        }\n",
              "      </script>\n",
              "    </div>\n",
              "  </div>\n",
              "  "
            ],
            "text/plain": [
              "                   Open         High  ...    Adj Close    Volume\n",
              "Date                                  ...                       \n",
              "2022-01-04  1189.550049  1208.000000  ...  1149.589966  33416100\n",
              "2022-01-05  1146.650024  1170.339966  ...  1088.119995  26706600\n",
              "2022-01-06  1077.000000  1088.000000  ...  1064.699951  30112200\n",
              "2022-01-07  1080.369995  1080.930054  ...  1026.959961  27919000\n",
              "2022-01-10  1000.000000  1059.099976  ...  1058.119995  30605000\n",
              "2022-01-11  1053.670044  1075.849976  ...  1064.400024  22021100\n",
              "2022-01-12  1078.849976  1114.839966  ...  1106.219971  27913000\n",
              "2022-01-13  1109.069946  1115.599976  ...  1031.560059  32403300\n",
              "2022-01-14  1019.880005  1052.000000  ...  1049.609985  24246600\n",
              "2022-01-18  1026.609985  1070.790039  ...  1030.510010  22247800\n",
              "2022-01-19  1041.709961  1054.670044  ...   995.650024  24988100\n",
              "\n",
              "[11 rows x 6 columns]"
            ]
          },
          "metadata": {},
          "execution_count": 52
        }
      ]
    },
    {
      "cell_type": "code",
      "source": [
        "def MACD(df):\n",
        "  df['EMA12'] = df.Close.ewm(span=12).mean()\n",
        "  df['EMA26'] = df.Close.ewm(span=26).mean()\n",
        "  df['MACD'] = df.EMA12 - df.EMA26\n",
        "  df['signal'] = df.MACD.ewm(span=9).mean()\n",
        "  print('Indicators added')"
      ],
      "metadata": {
        "id": "BCXGBao0MWET"
      },
      "execution_count": 53,
      "outputs": []
    },
    {
      "cell_type": "code",
      "source": [
        "MACD(df)"
      ],
      "metadata": {
        "colab": {
          "base_uri": "https://localhost:8080/"
        },
        "id": "S4lPOAAwNHSx",
        "outputId": "c73f9a83-9fd7-4e5d-b757-09e5d9e78256"
      },
      "execution_count": 54,
      "outputs": [
        {
          "output_type": "stream",
          "name": "stdout",
          "text": [
            "Indicators added\n"
          ]
        }
      ]
    },
    {
      "cell_type": "code",
      "source": [
        "df.tail(21)"
      ],
      "metadata": {
        "colab": {
          "base_uri": "https://localhost:8080/",
          "height": 739
        },
        "id": "dUqv9vNpNXAP",
        "outputId": "ec2e7150-eda6-463b-a273-cfbc12d85903"
      },
      "execution_count": 55,
      "outputs": [
        {
          "output_type": "execute_result",
          "data": {
            "text/html": [
              "\n",
              "  <div id=\"df-70b489d2-50ce-4c00-b8d6-6227b09e8f84\">\n",
              "    <div class=\"colab-df-container\">\n",
              "      <div>\n",
              "<style scoped>\n",
              "    .dataframe tbody tr th:only-of-type {\n",
              "        vertical-align: middle;\n",
              "    }\n",
              "\n",
              "    .dataframe tbody tr th {\n",
              "        vertical-align: top;\n",
              "    }\n",
              "\n",
              "    .dataframe thead th {\n",
              "        text-align: right;\n",
              "    }\n",
              "</style>\n",
              "<table border=\"1\" class=\"dataframe\">\n",
              "  <thead>\n",
              "    <tr style=\"text-align: right;\">\n",
              "      <th></th>\n",
              "      <th>Open</th>\n",
              "      <th>High</th>\n",
              "      <th>Low</th>\n",
              "      <th>Close</th>\n",
              "      <th>Adj Close</th>\n",
              "      <th>Volume</th>\n",
              "      <th>EMA12</th>\n",
              "      <th>EMA26</th>\n",
              "      <th>MACD</th>\n",
              "      <th>signal</th>\n",
              "    </tr>\n",
              "    <tr>\n",
              "      <th>Date</th>\n",
              "      <th></th>\n",
              "      <th></th>\n",
              "      <th></th>\n",
              "      <th></th>\n",
              "      <th></th>\n",
              "      <th></th>\n",
              "      <th></th>\n",
              "      <th></th>\n",
              "      <th></th>\n",
              "      <th></th>\n",
              "    </tr>\n",
              "  </thead>\n",
              "  <tbody>\n",
              "    <tr>\n",
              "      <th>2021-12-20</th>\n",
              "      <td>910.700012</td>\n",
              "      <td>921.690002</td>\n",
              "      <td>893.390015</td>\n",
              "      <td>899.940002</td>\n",
              "      <td>899.940002</td>\n",
              "      <td>18826700</td>\n",
              "      <td>980.414169</td>\n",
              "      <td>1013.166881</td>\n",
              "      <td>-32.752712</td>\n",
              "      <td>-12.778333</td>\n",
              "    </tr>\n",
              "    <tr>\n",
              "      <th>2021-12-21</th>\n",
              "      <td>916.869995</td>\n",
              "      <td>939.500000</td>\n",
              "      <td>886.119995</td>\n",
              "      <td>938.530029</td>\n",
              "      <td>938.530029</td>\n",
              "      <td>23839300</td>\n",
              "      <td>973.970455</td>\n",
              "      <td>1007.638221</td>\n",
              "      <td>-33.667766</td>\n",
              "      <td>-16.956219</td>\n",
              "    </tr>\n",
              "    <tr>\n",
              "      <th>2021-12-22</th>\n",
              "      <td>965.659973</td>\n",
              "      <td>1015.659973</td>\n",
              "      <td>957.049988</td>\n",
              "      <td>1008.869995</td>\n",
              "      <td>1008.869995</td>\n",
              "      <td>31211400</td>\n",
              "      <td>979.339615</td>\n",
              "      <td>1007.729464</td>\n",
              "      <td>-28.389849</td>\n",
              "      <td>-19.242945</td>\n",
              "    </tr>\n",
              "    <tr>\n",
              "      <th>2021-12-23</th>\n",
              "      <td>1006.799988</td>\n",
              "      <td>1072.979980</td>\n",
              "      <td>997.559998</td>\n",
              "      <td>1067.000000</td>\n",
              "      <td>1067.000000</td>\n",
              "      <td>30904400</td>\n",
              "      <td>992.825828</td>\n",
              "      <td>1012.119877</td>\n",
              "      <td>-19.294048</td>\n",
              "      <td>-19.253166</td>\n",
              "    </tr>\n",
              "    <tr>\n",
              "      <th>2021-12-27</th>\n",
              "      <td>1073.670044</td>\n",
              "      <td>1117.000000</td>\n",
              "      <td>1070.719971</td>\n",
              "      <td>1093.939941</td>\n",
              "      <td>1093.939941</td>\n",
              "      <td>23715300</td>\n",
              "      <td>1008.381846</td>\n",
              "      <td>1018.180626</td>\n",
              "      <td>-9.798780</td>\n",
              "      <td>-17.362289</td>\n",
              "    </tr>\n",
              "    <tr>\n",
              "      <th>2021-12-28</th>\n",
              "      <td>1109.489990</td>\n",
              "      <td>1119.000000</td>\n",
              "      <td>1078.420044</td>\n",
              "      <td>1088.469971</td>\n",
              "      <td>1088.469971</td>\n",
              "      <td>20108000</td>\n",
              "      <td>1020.703096</td>\n",
              "      <td>1023.387246</td>\n",
              "      <td>-2.684151</td>\n",
              "      <td>-14.426661</td>\n",
              "    </tr>\n",
              "    <tr>\n",
              "      <th>2021-12-29</th>\n",
              "      <td>1098.640015</td>\n",
              "      <td>1104.000000</td>\n",
              "      <td>1064.140015</td>\n",
              "      <td>1086.189941</td>\n",
              "      <td>1086.189941</td>\n",
              "      <td>18718000</td>\n",
              "      <td>1030.777995</td>\n",
              "      <td>1028.039300</td>\n",
              "      <td>2.738695</td>\n",
              "      <td>-10.993590</td>\n",
              "    </tr>\n",
              "    <tr>\n",
              "      <th>2021-12-30</th>\n",
              "      <td>1061.329956</td>\n",
              "      <td>1095.550049</td>\n",
              "      <td>1053.150024</td>\n",
              "      <td>1070.339966</td>\n",
              "      <td>1070.339966</td>\n",
              "      <td>15680300</td>\n",
              "      <td>1036.864452</td>\n",
              "      <td>1031.172684</td>\n",
              "      <td>5.691768</td>\n",
              "      <td>-7.656518</td>\n",
              "    </tr>\n",
              "    <tr>\n",
              "      <th>2021-12-31</th>\n",
              "      <td>1073.439941</td>\n",
              "      <td>1082.000000</td>\n",
              "      <td>1054.589966</td>\n",
              "      <td>1056.780029</td>\n",
              "      <td>1056.780029</td>\n",
              "      <td>13577900</td>\n",
              "      <td>1039.928387</td>\n",
              "      <td>1033.069525</td>\n",
              "      <td>6.858862</td>\n",
              "      <td>-4.753442</td>\n",
              "    </tr>\n",
              "    <tr>\n",
              "      <th>2022-01-03</th>\n",
              "      <td>1147.750000</td>\n",
              "      <td>1201.069946</td>\n",
              "      <td>1136.040039</td>\n",
              "      <td>1199.780029</td>\n",
              "      <td>1199.780029</td>\n",
              "      <td>34643800</td>\n",
              "      <td>1064.520947</td>\n",
              "      <td>1045.418456</td>\n",
              "      <td>19.102491</td>\n",
              "      <td>0.017744</td>\n",
              "    </tr>\n",
              "    <tr>\n",
              "      <th>2022-01-04</th>\n",
              "      <td>1189.550049</td>\n",
              "      <td>1208.000000</td>\n",
              "      <td>1123.050049</td>\n",
              "      <td>1149.589966</td>\n",
              "      <td>1149.589966</td>\n",
              "      <td>33416100</td>\n",
              "      <td>1077.608489</td>\n",
              "      <td>1053.134867</td>\n",
              "      <td>24.473622</td>\n",
              "      <td>4.908920</td>\n",
              "    </tr>\n",
              "    <tr>\n",
              "      <th>2022-01-05</th>\n",
              "      <td>1146.650024</td>\n",
              "      <td>1170.339966</td>\n",
              "      <td>1081.010010</td>\n",
              "      <td>1088.119995</td>\n",
              "      <td>1088.119995</td>\n",
              "      <td>26706600</td>\n",
              "      <td>1079.225644</td>\n",
              "      <td>1055.726359</td>\n",
              "      <td>23.499285</td>\n",
              "      <td>8.626993</td>\n",
              "    </tr>\n",
              "    <tr>\n",
              "      <th>2022-01-06</th>\n",
              "      <td>1077.000000</td>\n",
              "      <td>1088.000000</td>\n",
              "      <td>1020.500000</td>\n",
              "      <td>1064.699951</td>\n",
              "      <td>1064.699951</td>\n",
              "      <td>30112200</td>\n",
              "      <td>1076.990922</td>\n",
              "      <td>1056.391070</td>\n",
              "      <td>20.599852</td>\n",
              "      <td>11.021565</td>\n",
              "    </tr>\n",
              "    <tr>\n",
              "      <th>2022-01-07</th>\n",
              "      <td>1080.369995</td>\n",
              "      <td>1080.930054</td>\n",
              "      <td>1010.000000</td>\n",
              "      <td>1026.959961</td>\n",
              "      <td>1026.959961</td>\n",
              "      <td>27919000</td>\n",
              "      <td>1069.293851</td>\n",
              "      <td>1054.210987</td>\n",
              "      <td>15.082864</td>\n",
              "      <td>11.833824</td>\n",
              "    </tr>\n",
              "    <tr>\n",
              "      <th>2022-01-10</th>\n",
              "      <td>1000.000000</td>\n",
              "      <td>1059.099976</td>\n",
              "      <td>980.000000</td>\n",
              "      <td>1058.119995</td>\n",
              "      <td>1058.119995</td>\n",
              "      <td>30605000</td>\n",
              "      <td>1067.574796</td>\n",
              "      <td>1054.500543</td>\n",
              "      <td>13.074253</td>\n",
              "      <td>12.081910</td>\n",
              "    </tr>\n",
              "    <tr>\n",
              "      <th>2022-01-11</th>\n",
              "      <td>1053.670044</td>\n",
              "      <td>1075.849976</td>\n",
              "      <td>1038.819946</td>\n",
              "      <td>1064.400024</td>\n",
              "      <td>1064.400024</td>\n",
              "      <td>22021100</td>\n",
              "      <td>1067.086370</td>\n",
              "      <td>1055.233838</td>\n",
              "      <td>11.852531</td>\n",
              "      <td>12.036034</td>\n",
              "    </tr>\n",
              "    <tr>\n",
              "      <th>2022-01-12</th>\n",
              "      <td>1078.849976</td>\n",
              "      <td>1114.839966</td>\n",
              "      <td>1072.589966</td>\n",
              "      <td>1106.219971</td>\n",
              "      <td>1106.219971</td>\n",
              "      <td>27913000</td>\n",
              "      <td>1073.106924</td>\n",
              "      <td>1059.010590</td>\n",
              "      <td>14.096334</td>\n",
              "      <td>12.448094</td>\n",
              "    </tr>\n",
              "    <tr>\n",
              "      <th>2022-01-13</th>\n",
              "      <td>1109.069946</td>\n",
              "      <td>1115.599976</td>\n",
              "      <td>1026.540039</td>\n",
              "      <td>1031.560059</td>\n",
              "      <td>1031.560059</td>\n",
              "      <td>32403300</td>\n",
              "      <td>1066.715098</td>\n",
              "      <td>1056.977217</td>\n",
              "      <td>9.737882</td>\n",
              "      <td>11.906052</td>\n",
              "    </tr>\n",
              "    <tr>\n",
              "      <th>2022-01-14</th>\n",
              "      <td>1019.880005</td>\n",
              "      <td>1052.000000</td>\n",
              "      <td>1013.380005</td>\n",
              "      <td>1049.609985</td>\n",
              "      <td>1049.609985</td>\n",
              "      <td>24246600</td>\n",
              "      <td>1064.083542</td>\n",
              "      <td>1056.431496</td>\n",
              "      <td>7.652047</td>\n",
              "      <td>11.055251</td>\n",
              "    </tr>\n",
              "    <tr>\n",
              "      <th>2022-01-18</th>\n",
              "      <td>1026.609985</td>\n",
              "      <td>1070.790039</td>\n",
              "      <td>1016.059998</td>\n",
              "      <td>1030.510010</td>\n",
              "      <td>1030.510010</td>\n",
              "      <td>22247800</td>\n",
              "      <td>1058.918384</td>\n",
              "      <td>1054.511385</td>\n",
              "      <td>4.406998</td>\n",
              "      <td>9.725600</td>\n",
              "    </tr>\n",
              "    <tr>\n",
              "      <th>2022-01-19</th>\n",
              "      <td>1041.709961</td>\n",
              "      <td>1054.670044</td>\n",
              "      <td>995.000000</td>\n",
              "      <td>995.650024</td>\n",
              "      <td>995.650024</td>\n",
              "      <td>24988100</td>\n",
              "      <td>1049.184790</td>\n",
              "      <td>1050.151284</td>\n",
              "      <td>-0.966494</td>\n",
              "      <td>7.587181</td>\n",
              "    </tr>\n",
              "  </tbody>\n",
              "</table>\n",
              "</div>\n",
              "      <button class=\"colab-df-convert\" onclick=\"convertToInteractive('df-70b489d2-50ce-4c00-b8d6-6227b09e8f84')\"\n",
              "              title=\"Convert this dataframe to an interactive table.\"\n",
              "              style=\"display:none;\">\n",
              "        \n",
              "  <svg xmlns=\"http://www.w3.org/2000/svg\" height=\"24px\"viewBox=\"0 0 24 24\"\n",
              "       width=\"24px\">\n",
              "    <path d=\"M0 0h24v24H0V0z\" fill=\"none\"/>\n",
              "    <path d=\"M18.56 5.44l.94 2.06.94-2.06 2.06-.94-2.06-.94-.94-2.06-.94 2.06-2.06.94zm-11 1L8.5 8.5l.94-2.06 2.06-.94-2.06-.94L8.5 2.5l-.94 2.06-2.06.94zm10 10l.94 2.06.94-2.06 2.06-.94-2.06-.94-.94-2.06-.94 2.06-2.06.94z\"/><path d=\"M17.41 7.96l-1.37-1.37c-.4-.4-.92-.59-1.43-.59-.52 0-1.04.2-1.43.59L10.3 9.45l-7.72 7.72c-.78.78-.78 2.05 0 2.83L4 21.41c.39.39.9.59 1.41.59.51 0 1.02-.2 1.41-.59l7.78-7.78 2.81-2.81c.8-.78.8-2.07 0-2.86zM5.41 20L4 18.59l7.72-7.72 1.47 1.35L5.41 20z\"/>\n",
              "  </svg>\n",
              "      </button>\n",
              "      \n",
              "  <style>\n",
              "    .colab-df-container {\n",
              "      display:flex;\n",
              "      flex-wrap:wrap;\n",
              "      gap: 12px;\n",
              "    }\n",
              "\n",
              "    .colab-df-convert {\n",
              "      background-color: #E8F0FE;\n",
              "      border: none;\n",
              "      border-radius: 50%;\n",
              "      cursor: pointer;\n",
              "      display: none;\n",
              "      fill: #1967D2;\n",
              "      height: 32px;\n",
              "      padding: 0 0 0 0;\n",
              "      width: 32px;\n",
              "    }\n",
              "\n",
              "    .colab-df-convert:hover {\n",
              "      background-color: #E2EBFA;\n",
              "      box-shadow: 0px 1px 2px rgba(60, 64, 67, 0.3), 0px 1px 3px 1px rgba(60, 64, 67, 0.15);\n",
              "      fill: #174EA6;\n",
              "    }\n",
              "\n",
              "    [theme=dark] .colab-df-convert {\n",
              "      background-color: #3B4455;\n",
              "      fill: #D2E3FC;\n",
              "    }\n",
              "\n",
              "    [theme=dark] .colab-df-convert:hover {\n",
              "      background-color: #434B5C;\n",
              "      box-shadow: 0px 1px 3px 1px rgba(0, 0, 0, 0.15);\n",
              "      filter: drop-shadow(0px 1px 2px rgba(0, 0, 0, 0.3));\n",
              "      fill: #FFFFFF;\n",
              "    }\n",
              "  </style>\n",
              "\n",
              "      <script>\n",
              "        const buttonEl =\n",
              "          document.querySelector('#df-70b489d2-50ce-4c00-b8d6-6227b09e8f84 button.colab-df-convert');\n",
              "        buttonEl.style.display =\n",
              "          google.colab.kernel.accessAllowed ? 'block' : 'none';\n",
              "\n",
              "        async function convertToInteractive(key) {\n",
              "          const element = document.querySelector('#df-70b489d2-50ce-4c00-b8d6-6227b09e8f84');\n",
              "          const dataTable =\n",
              "            await google.colab.kernel.invokeFunction('convertToInteractive',\n",
              "                                                     [key], {});\n",
              "          if (!dataTable) return;\n",
              "\n",
              "          const docLinkHtml = 'Like what you see? Visit the ' +\n",
              "            '<a target=\"_blank\" href=https://colab.research.google.com/notebooks/data_table.ipynb>data table notebook</a>'\n",
              "            + ' to learn more about interactive tables.';\n",
              "          element.innerHTML = '';\n",
              "          dataTable['output_type'] = 'display_data';\n",
              "          await google.colab.output.renderOutput(dataTable, element);\n",
              "          const docLink = document.createElement('div');\n",
              "          docLink.innerHTML = docLinkHtml;\n",
              "          element.appendChild(docLink);\n",
              "        }\n",
              "      </script>\n",
              "    </div>\n",
              "  </div>\n",
              "  "
            ],
            "text/plain": [
              "                   Open         High  ...       MACD     signal\n",
              "Date                                  ...                      \n",
              "2021-12-20   910.700012   921.690002  ... -32.752712 -12.778333\n",
              "2021-12-21   916.869995   939.500000  ... -33.667766 -16.956219\n",
              "2021-12-22   965.659973  1015.659973  ... -28.389849 -19.242945\n",
              "2021-12-23  1006.799988  1072.979980  ... -19.294048 -19.253166\n",
              "2021-12-27  1073.670044  1117.000000  ...  -9.798780 -17.362289\n",
              "2021-12-28  1109.489990  1119.000000  ...  -2.684151 -14.426661\n",
              "2021-12-29  1098.640015  1104.000000  ...   2.738695 -10.993590\n",
              "2021-12-30  1061.329956  1095.550049  ...   5.691768  -7.656518\n",
              "2021-12-31  1073.439941  1082.000000  ...   6.858862  -4.753442\n",
              "2022-01-03  1147.750000  1201.069946  ...  19.102491   0.017744\n",
              "2022-01-04  1189.550049  1208.000000  ...  24.473622   4.908920\n",
              "2022-01-05  1146.650024  1170.339966  ...  23.499285   8.626993\n",
              "2022-01-06  1077.000000  1088.000000  ...  20.599852  11.021565\n",
              "2022-01-07  1080.369995  1080.930054  ...  15.082864  11.833824\n",
              "2022-01-10  1000.000000  1059.099976  ...  13.074253  12.081910\n",
              "2022-01-11  1053.670044  1075.849976  ...  11.852531  12.036034\n",
              "2022-01-12  1078.849976  1114.839966  ...  14.096334  12.448094\n",
              "2022-01-13  1109.069946  1115.599976  ...   9.737882  11.906052\n",
              "2022-01-14  1019.880005  1052.000000  ...   7.652047  11.055251\n",
              "2022-01-18  1026.609985  1070.790039  ...   4.406998   9.725600\n",
              "2022-01-19  1041.709961  1054.670044  ...  -0.966494   7.587181\n",
              "\n",
              "[21 rows x 10 columns]"
            ]
          },
          "metadata": {},
          "execution_count": 55
        }
      ]
    },
    {
      "cell_type": "code",
      "source": [
        "plt.plot(df.signal, label='Signal', color='red')\n",
        "plt.plot(df.MACD, label='MACD', color='green')\n",
        "plt.legend()\n",
        "plt.show()"
      ],
      "metadata": {
        "colab": {
          "base_uri": "https://localhost:8080/",
          "height": 267
        },
        "id": "rUzp3IC2NbVD",
        "outputId": "ed857ba4-800f-439a-bb2e-a6fe8865a1f8"
      },
      "execution_count": 56,
      "outputs": [
        {
          "output_type": "display_data",
          "data": {
            "image/png": "[encoded data removed]",
            "text/plain": [
              "<Figure size 432x288 with 1 Axes>"
            ]
          },
          "metadata": {
            "needs_background": "light"
          }
        }
      ]
    },
    {
      "cell_type": "code",
      "source": [
        "Buy, Sell = [], []\n",
        "\n",
        "for i in range(2, len(df)):\n",
        "  if df.MACD.iloc[1] > df.signal.iloc[i] and df.MACD.iloc[i-1] < df.signal.iloc[i-1]:\n",
        "    Buy.append(i)\n",
        "  elif df.MACD.iloc[i] < df.signal.iloc[i] and df.MACD.iloc[i-1] > df.signal.iloc[i-1]:\n",
        "    Sell.append(i)"
      ],
      "metadata": {
        "id": "hS0RkWLJNveN"
      },
      "execution_count": 57,
      "outputs": []
    },
    {
      "cell_type": "code",
      "source": [
        "plt.scatter(df.iloc[Buy].index, df.iloc[Buy].Close, marker=\"^\", color='green')\n",
        "plt.scatter(df.iloc[Sell].index, df.iloc[Sell].Close, marker=\"v\", color='red')\n",
        "plt.plot(df.Close, label='TSLA Close', color='k')\n",
        "plt.legend()\n",
        "plt.show()"
      ],
      "metadata": {
        "colab": {
          "base_uri": "https://localhost:8080/",
          "height": 265
        },
        "id": "1ICclxLtPUNN",
        "outputId": "09428f66-976d-4bd6-ac69-6805744d4c97"
      },
      "execution_count": 58,
      "outputs": [
        {
          "output_type": "display_data",
          "data": {
            "image/png": "[encoded data removed]",
            "text/plain": [
              "<Figure size 432x288 with 1 Axes>"
            ]
          },
          "metadata": {
            "needs_background": "light"
          }
        }
      ]
    },
    {
      "cell_type": "code",
      "source": [
        "Realbuys = [i+1 for i in Buy]\n",
        "Realsells = [i+1 for i in Sell]\n"
      ],
      "metadata": {
        "id": "zKImbiXRQJsg"
      },
      "execution_count": 59,
      "outputs": []
    },
    {
      "cell_type": "code",
      "source": [
        "Buyprices = df.Open.iloc[Realbuys]\n",
        "Sellprices = df.Open.iloc[Realsells]"
      ],
      "metadata": {
        "id": "L3tTVEi1Qm5v"
      },
      "execution_count": 60,
      "outputs": []
    },
    {
      "cell_type": "code",
      "source": [
        "Buyprices"
      ],
      "metadata": {
        "colab": {
          "base_uri": "https://localhost:8080/"
        },
        "id": "ET5hcwtZRyzH",
        "outputId": "8eb2e10c-f0b6-4e79-d8de-3ee5f424c1c7"
      },
      "execution_count": 61,
      "outputs": [
        {
          "output_type": "execute_result",
          "data": {
            "text/plain": [
              "Date\n",
              "2021-04-09     677.770020\n",
              "2021-04-12     685.700012\n",
              "2021-04-13     712.700012\n",
              "2021-05-05     681.059998\n",
              "2021-05-06     680.760010\n",
              "2021-05-07     665.799988\n",
              "2021-05-10     664.900024\n",
              "2021-05-11     599.239990\n",
              "2021-05-12     602.489990\n",
              "2021-05-13     601.539978\n",
              "2021-05-14     583.409973\n",
              "2021-05-17     575.549988\n",
              "2021-05-18     568.000000\n",
              "2021-05-19     552.549988\n",
              "2021-05-20     575.000000\n",
              "2021-05-21     596.109985\n",
              "2021-05-24     581.599976\n",
              "2021-05-25     607.309998\n",
              "2021-05-26     607.559998\n",
              "2021-12-17     914.770020\n",
              "2021-12-20     910.700012\n",
              "2021-12-21     916.869995\n",
              "2021-12-22     965.659973\n",
              "2021-12-23    1006.799988\n",
              "2021-12-27    1073.670044\n",
              "2021-12-28    1109.489990\n",
              "Name: Open, dtype: float64"
            ]
          },
          "metadata": {},
          "execution_count": 61
        }
      ]
    },
    {
      "cell_type": "code",
      "source": [
        "Sellprices"
      ],
      "metadata": {
        "colab": {
          "base_uri": "https://localhost:8080/"
        },
        "id": "9zSK4P8DR2ya",
        "outputId": "15068a8b-dae5-4003-d893-2a2678d44074"
      },
      "execution_count": 62,
      "outputs": [
        {
          "output_type": "execute_result",
          "data": {
            "text/plain": [
              "Date\n",
              "2021-04-08     677.380005\n",
              "2021-04-28     696.409973\n",
              "2021-07-09     653.179993\n",
              "2021-07-15     658.390015\n",
              "2021-08-17     672.659973\n",
              "2021-09-21     734.789978\n",
              "2021-10-07     785.460022\n",
              "2021-10-11     787.650024\n",
              "2021-11-11    1102.770020\n",
              "2022-01-12    1078.849976\n",
              "2022-01-14    1019.880005\n",
              "Name: Open, dtype: float64"
            ]
          },
          "metadata": {},
          "execution_count": 62
        }
      ]
    },
    {
      "cell_type": "code",
      "source": [
        "if Sellprices.index [0] < Buyprices.index[0]:\n",
        "  Sellprices = Sellprices.drop(Sellprices.index[0])\n",
        "elif Buyprices.index[-1] > Sellprices.index[-1]:\n",
        "  Buyprices = Buyprices.drop(Buyprices.index[-1])"
      ],
      "metadata": {
        "id": "dpPnHJvjSKhI"
      },
      "execution_count": 64,
      "outputs": []
    },
    {
      "cell_type": "code",
      "source": [
        "profitsrel = []\n",
        "\n",
        "for i in range(len(Sellprices)):\n",
        "  profitsrel.append((Sellprices[i] - Buyprices[i])/Buyprices[i])"
      ],
      "metadata": {
        "id": "Z2-kobQaTshE"
      },
      "execution_count": 65,
      "outputs": []
    },
    {
      "cell_type": "code",
      "source": [
        "profitsrel"
      ],
      "metadata": {
        "colab": {
          "base_uri": "https://localhost:8080/"
        },
        "id": "H6zr7cnVUMzP",
        "outputId": "5ff92900-c37d-4220-bc39-3014860ef73d"
      },
      "execution_count": 66,
      "outputs": [
        {
          "output_type": "execute_result",
          "data": {
            "text/plain": [
              "[0.027501885707740155,\n",
              " -0.047426015680792105,\n",
              " -0.07620316630893688,\n",
              " -0.012333750982548082,\n",
              " 0.07936713009966673,\n",
              " 0.17972369536434404,\n",
              " 0.1846142209246757,\n",
              " 0.8402810852125108,\n",
              " 0.7906521155085969,\n",
              " 0.6954484192843665]"
            ]
          },
          "metadata": {},
          "execution_count": 66
        }
      ]
    },
    {
      "cell_type": "code",
      "source": [
        "sum(profitsrel)"
      ],
      "metadata": {
        "colab": {
          "base_uri": "https://localhost:8080/"
        },
        "id": "UUMDtFUOUP7J",
        "outputId": "934c8c71-206a-4d12-a83a-f96fc2399557"
      },
      "execution_count": 67,
      "outputs": [
        {
          "output_type": "execute_result",
          "data": {
            "text/plain": [
              "2.661625619129624"
            ]
          },
          "metadata": {},
          "execution_count": 67
        }
      ]
    },
    {
      "cell_type": "code",
      "source": [
        "sum(profitsrel)/len(profitsrel)"
      ],
      "metadata": {
        "colab": {
          "base_uri": "https://localhost:8080/"
        },
        "id": "zEw8JgiUU5Mn",
        "outputId": "56aeb7e4-9569-4db6-9e54-9b2a67db123a"
      },
      "execution_count": 69,
      "outputs": [
        {
          "output_type": "execute_result",
          "data": {
            "text/plain": [
              "0.2661625619129624"
            ]
          },
          "metadata": {},
          "execution_count": 69
        }
      ]
    },
    {
      "cell_type": "code",
      "source": [
        ""
      ],
      "metadata": {
        "id": "bskQkKXQVHBC"
      },
      "execution_count": null,
      "outputs": []
    }
  ]
}