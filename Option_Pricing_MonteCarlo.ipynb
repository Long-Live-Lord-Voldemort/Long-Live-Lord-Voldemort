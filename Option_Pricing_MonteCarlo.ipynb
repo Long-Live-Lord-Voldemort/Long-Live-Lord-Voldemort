{
  "nbformat": 4,
  "nbformat_minor": 0,
  "metadata": {
    "colab": {
      "name": "Option_Pricing_MonteCarlo.ipynb",
      "provenance": [],
      "collapsed_sections": [],
      "authorship_tag": "ABX9TyNoiRXT0T78z4e8nd60DHAJ",
      "include_colab_link": true
    },
    "kernelspec": {
      "name": "python3",
      "display_name": "Python 3"
    },
    "language_info": {
      "name": "python"
    }
  },
  "cells": [
    {
      "cell_type": "markdown",
      "metadata": {
        "id": "view-in-github",
        "colab_type": "text"
      },
      "source": [
        "<a href=\"https://colab.research.google.com/github/Long-Live-Lord-Voldemort/Long-Live-Lord-Voldemort/blob/main/Option_Pricing_MonteCarlo.ipynb\" target=\"_parent\"><img src=\"https://colab.research.google.com/assets/colab-badge.svg\" alt=\"Open In Colab\"/></a>"
      ]
    },
    {
      "cell_type": "code",
      "execution_count": null,
      "metadata": {
        "id": "h0Sf9AuMToH5"
      },
      "outputs": [],
      "source": [
        "S = 100\n",
        "T = 1\n",
        "r = 0.07\n",
        "sigma = 0.2\n",
        "Nsimulations = 5000\n",
        "Nsteps = 4\n",
        "K = 100"
      ]
    },
    {
      "cell_type": "code",
      "source": [
        "dt = T/Nsteps"
      ],
      "metadata": {
        "id": "SR_-ZpelYV_i"
      },
      "execution_count": null,
      "outputs": []
    },
    {
      "cell_type": "code",
      "source": [
        "import numpy as np\n",
        "\n",
        "drift = (r-(sigma**2)/2)*dt\n",
        "a = sigma*np.sqrt(dt)\n",
        "x = np.random.normal(0,1,(Nsimulations,Nsteps))\n",
        "x"
      ],
      "metadata": {
        "colab": {
          "base_uri": "https://localhost:8080/"
        },
        "id": "7KCvAbO2YkVK",
        "outputId": "bde4d91c-c082-44b5-82fe-c9a151236b14"
      },
      "execution_count": null,
      "outputs": [
        {
          "output_type": "execute_result",
          "data": {
            "text/plain": [
              "array([[ 0.68830974,  0.05325483,  1.03685519, -0.98994266],\n",
              "       [-0.6349243 ,  0.68656739, -1.08872435, -0.00955234],\n",
              "       [-0.07430282, -0.62962236, -0.80605956, -0.19938012],\n",
              "       ...,\n",
              "       [ 1.00055253, -0.57361893,  1.21114856, -1.19360369],\n",
              "       [-1.8033876 , -0.80933248, -0.71131583, -0.33684296],\n",
              "       [ 1.03361252,  0.62892543, -1.08178304,  0.29215169]])"
            ]
          },
          "metadata": {},
          "execution_count": 80
        }
      ]
    },
    {
      "cell_type": "code",
      "source": [
        "Smat = np.zeros((Nsimulations,Nsteps))\n",
        "Smat[:,0]+=S\n",
        "\n",
        "for i in range(1,Nsteps):\n",
        "  Smat[:,i] += Smat[:,i-1] * np.exp(drift +a*x[:,i])\n",
        "Smat"
      ],
      "metadata": {
        "colab": {
          "base_uri": "https://localhost:8080/"
        },
        "id": "EPpMMtqoZc26",
        "outputId": "6149e45c-c10e-42ab-f193-205f44f2b52a"
      },
      "execution_count": null,
      "outputs": [
        {
          "output_type": "execute_result",
          "data": {
            "text/plain": [
              "array([[100.        , 101.79853055, 114.34053992, 104.86637508],\n",
              "       [100.        , 108.45408731,  98.48994777,  99.63357991],\n",
              "       [100.        ,  95.07898335,  88.81912459,  88.16093773],\n",
              "       ...,\n",
              "       [100.        ,  95.61295208, 109.28106578,  98.20555472],\n",
              "       [100.        ,  93.38557945,  88.06765754,  86.22162865],\n",
              "       [100.        , 107.83073499,  97.9918611 , 102.16606667]])"
            ]
          },
          "metadata": {},
          "execution_count": 81
        }
      ]
    },
    {
      "cell_type": "code",
      "source": [
        "q = Smat[:,-1]-K\n",
        "for i in range(len(q)):\n",
        "  if q[i]<0:\n",
        "    q[i]=0\n",
        "  else:\n",
        "      q[i]=q[i]\n",
        "q"
      ],
      "metadata": {
        "colab": {
          "base_uri": "https://localhost:8080/"
        },
        "id": "Q0UGM5bkZfKL",
        "outputId": "4c5f9fd8-0781-47fc-d576-4647831ecc79"
      },
      "execution_count": null,
      "outputs": [
        {
          "output_type": "execute_result",
          "data": {
            "text/plain": [
              "array([4.86637508, 0.        , 0.        , ..., 0.        , 0.        ,\n",
              "       2.16606667])"
            ]
          },
          "metadata": {},
          "execution_count": 82
        }
      ]
    },
    {
      "cell_type": "code",
      "source": [
        "\n",
        "p = K-Smat[:,-1]\n",
        "for i in range(len(p)):\n",
        "  if p[i]<0:\n",
        "    p[i]=0\n",
        "  else:\n",
        "      p[i]=p[i]\n",
        "p"
      ],
      "metadata": {
        "colab": {
          "base_uri": "https://localhost:8080/"
        },
        "id": "QXSBGTv3cmgZ",
        "outputId": "821202d9-0756-4aba-faf0-ac6b30a8016c"
      },
      "execution_count": null,
      "outputs": [
        {
          "output_type": "execute_result",
          "data": {
            "text/plain": [
              "array([ 0.        ,  0.36642009, 11.83906227, ...,  1.79444528,\n",
              "       13.77837135,  0.        ])"
            ]
          },
          "metadata": {},
          "execution_count": 83
        }
      ]
    },
    {
      "cell_type": "code",
      "source": [
        "payoff_call=np.mean(q)\n",
        "payoff_put=np.mean(p)"
      ],
      "metadata": {
        "id": "TObgnB78ecYC"
      },
      "execution_count": null,
      "outputs": []
    },
    {
      "cell_type": "code",
      "source": [
        "payoff_put"
      ],
      "metadata": {
        "colab": {
          "base_uri": "https://localhost:8080/"
        },
        "id": "iiI43DP5eqgT",
        "outputId": "1a12a87f-623a-4da9-ab14-750b0cfe6919"
      },
      "execution_count": null,
      "outputs": [
        {
          "output_type": "execute_result",
          "data": {
            "text/plain": [
              "4.709927204567519"
            ]
          },
          "metadata": {},
          "execution_count": 85
        }
      ]
    },
    {
      "cell_type": "code",
      "source": [
        "payoff_call"
      ],
      "metadata": {
        "colab": {
          "base_uri": "https://localhost:8080/"
        },
        "id": "F0e2pveper81",
        "outputId": "8e223a97-3ed3-4b28-be05-ffd292dc4841"
      },
      "execution_count": null,
      "outputs": [
        {
          "output_type": "execute_result",
          "data": {
            "text/plain": [
              "10.43112071215092"
            ]
          },
          "metadata": {},
          "execution_count": 86
        }
      ]
    },
    {
      "cell_type": "code",
      "source": [
        "call = payoff_call*np.exp(-r*T)\n",
        "put = payoff_put*np.exp(-r*T)"
      ],
      "metadata": {
        "id": "V1jRFUx7exFY"
      },
      "execution_count": null,
      "outputs": []
    },
    {
      "cell_type": "code",
      "source": [
        "call"
      ],
      "metadata": {
        "colab": {
          "base_uri": "https://localhost:8080/"
        },
        "id": "LgNlhUF4fE2R",
        "outputId": "d3cec6e8-caea-4a81-daa3-4391a6bddc13"
      },
      "execution_count": null,
      "outputs": [
        {
          "output_type": "execute_result",
          "data": {
            "text/plain": [
              "9.725912486702452"
            ]
          },
          "metadata": {},
          "execution_count": 88
        }
      ]
    },
    {
      "cell_type": "code",
      "source": [
        "put"
      ],
      "metadata": {
        "colab": {
          "base_uri": "https://localhost:8080/"
        },
        "id": "6dgV_HlIfH3B",
        "outputId": "8d95d5b9-d62e-42bb-aebb-b6018220a734"
      },
      "execution_count": null,
      "outputs": [
        {
          "output_type": "execute_result",
          "data": {
            "text/plain": [
              "4.391507017745654"
            ]
          },
          "metadata": {},
          "execution_count": 89
        }
      ]
    }
  ]
}